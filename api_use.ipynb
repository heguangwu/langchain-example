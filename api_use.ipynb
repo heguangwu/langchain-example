{
 "cells": [
  {
   "cell_type": "markdown",
   "metadata": {},
   "source": [
    "# API 使用\n",
    "\n",
    "模型的API包括：\n",
    "\n",
    "- stream: 流式处理单个输入并返回响应的流式数据，即回答是部分返回，返回对象为`AIMessageChunk`\n",
    "- invoke: 处理单个输入调用\n",
    "- batch：批处理多个输入列表\n",
    "\n",
    "上述均为同步调用，异步调用函数在前面加一个`a`，即`stream`的异步函数为`astream`。\n",
    "除此之外，还有：\n",
    "\n",
    "- astream_log: 异步返回的中间步骤及最终结果\n",
    "- astream_events: 流式传输中发生的事件"
   ]
  },
  {
   "cell_type": "code",
   "execution_count": null,
   "metadata": {},
   "outputs": [
    {
     "name": "stdout",
     "output_type": "stream",
     "text": [
      "<think>|\n",
      "|嗯|，|我|最近|一直在|想|一个问题|：“|天空|为什么|是|蓝色|的|？”|这个问题|听起来|好像|很简单|，|但是|有时候|简单|的问题|背后|其实|隐藏|着|很多|复杂的|科学|知识|。|我记得|小时候|学|过的|，|说|是因为|大气|层|的作用|，|但|具体|是怎么|回事|呢|？|我觉得|有必要|详细|了解一下|。\n",
      "\n",
      "|首先|，|我知道|太阳|光|是由|多种|颜色|组成的|，|也就是|我们|常说|的|七|彩|光|或者|彩虹|的颜色|：|红|、|橙|、|黄|、|绿|、|蓝|、|靛|、|紫|。|每|种|颜色|对应|不同的|波|长|和|能量|。|红色|光|波|长|较长|，|紫色|光|波|短|。|那么|，|这些|不同|颜色|的|光|在|进入|地球|大气|层|时|会发生|什么呢|？\n",
      "\n",
      "|大气|层|是由|各种|气体|组成的|，|比如|氮|气|、|氧气|还有|臭|氧|等等|。|其中|氮|气|分子|的数量|最多|，|大约|占|了|7|8|%|。|我觉得|氮|气|在这种|现象|中|可能|扮演|着|重要|角色|。\n",
      "\n",
      "|我记得|以前|听说过|散|射|的现象|，|尤其是在|物理学|课|上|。|光线|在|传播|过程中|遇到|小|颗粒|时|会发生|散|射|，|不同|颜色|的|光|因为|波|长|的不同|，|散|射|的程度|也会|不同|。|短|波|长|的|光|更容易|被|散|射|，|比如|紫色|和|蓝色|，|而|红色|和|橙|色|这样的|长|波|长|光|则|不容易|被|散|射|。\n",
      "\n",
      "|那么|，|为什么|我们|看到|的|天空|是|蓝色|而不是|紫色|呢|？|如果|蓝色|比|紫色|更容易|被|散|射|，|那|理论上|天空|的颜色|应该|偏向|于|蓝色|或|紫色|吧|。|但是|实际上|，|天空|却是|蓝|颜色|的|，|这|可能|是因为|人|眼|对|蓝色|的|敏感|度|更高|，|或者说|大气|中|某些|因素|影响|了|散|射|后的|颜色|。\n",
      "\n",
      "|另外|，|我还|听说过|瑞|利|散|射|这个|概念|，|可能|和|这个问题|有关|。|查|了一下|资料|，|瑞|利|散|射|是指|光|在|传播|过程中|遇到|比|光|波|长|小|很多|的|粒子|，|导致|光线|向|不同|方向|散|开|的现象|。|根据|瑞|利|散|射|定律|，|散|射|的程度|与|光|波|长|的|四|次|方|成|反|比|。|也就是说|，|波|长|越|短|的颜色|，|如|紫色|和|蓝色|，|散|射|得|更多|。\n",
      "\n",
      "|不过|，|天空|看起来|为什么|不是|紫色|呢|？|可能|是因为|太阳|发出|的|白|光|中|，|紫色|光|的比例|本来就|少|于|蓝色|，|或者|大气|层|中有|某些|因素|影响|了|这种|散|射|效果|。|比如|，|臭|氧|或者其他|光|化学|成分|可能|吸收|了一|部分|紫外线|，|使得|我们|看到|的|主要是|蓝色|而不是|紫色|。\n",
      "\n",
      "|还|有一种|情况|，|就是|人|眼|对|不同|颜色|光|的感受|度|不同|。|人|的眼睛|对|蓝|绿色|的部分|最为|敏感|，在|日|光|下|，|蓝|绿色|区域|的|散|射|可能导致|天空|呈现|蓝色|。|这也是|人|眼|视觉|系统|的一个|因素|。\n",
      "\n",
      "|再|想想|，|当|太阳|在|地|平|线|附近|时|，|也就是|日|出|或|日|落|的时候|，|天空|会|变成|红色|或者|橙|色|，|这种|现象|也是|大气|层|中|散|射|作用|的结果|。|这时候|阳光|需要|穿过|更|厚|的大|气|层|，|更多的|短|波|长|光|被|散|射|掉|，|剩下的|红色|和|橙|色|主导|了|天空|的颜色|。\n",
      "\n",
      "|这|让我|想到|，|蓝色|主要|是在|太阳|光|直|射|的方向|附近|出现|的|“|蓝天|”，|而|当|阳光|经过|更多|大气|层|路径|时|，|颜色|会|逐渐|变|红|。\n",
      "\n",
      "|总结|一下|，|我|理解|到|天空|呈现|蓝色|主要是|由于|太阳|光|的|短|波|长|部分|（|如|蓝|紫|）|在|穿过|大气|层|时|被|散|射|的现象|。|这种|现象|叫做|瑞|利|散|射|，|其中|波|长|较|短|的|蓝|光|比|红|光|更容易|被|散|射|，|因此|我们|看到|的|天空|颜色|偏向|于|蓝色|。\n",
      "\n",
      "|不过|，|我|还在|想|为什么|不是|紫色|呢|？|是不是|因为|紫外线|对我们|的眼睛|不可|见|，|或者|因为|臭|氧|层|吸收|了|部分|紫外|光|？|另外|，|人|眼|对|蓝色|更|敏感|也可能|影响|到|我们|感知|的颜色|。|所以|这些|因素|综|合作|用|下|，|天|空|呈现|的是|蓝色|。\n",
      "|</think>|\n",
      "\n",
      "|天空|呈现|蓝色|主要是|由于|太阳|光|在|大气|层|中的|散|射|作用|，|具体|来说|是|瑞|利|散|射|的结果|。|以下是|详细的|解释|：\n",
      "\n",
      "|1|.| **|太阳|光|的|组成|**|：\n",
      "|  | -| 太|阳光|由|多种|颜色|组成|，|包括|红|、|橙|、|黄|、|绿|、|蓝|、|靛|、|紫|。|每|种|颜色|具有|不同的|波|长|，|其中|紫色|和|蓝色|的|波|长|较|短|，|红色|和|橙|色|较长|。\n",
      "\n",
      "|2|.| **|大气|层|的作用|**|：\n",
      "|  | -| 大|气|层|主要|由|氮|气|分子|构成|，|这些|分子|在|光|谱|学|中|起到|散|射|光线|的作用|。\n",
      "|   \n",
      "|3|.| **|瑞|利|散|射|原理|**|：\n",
      "|  | -| 根|据|瑞|利|散|射|定律|，|散|射|程度|与|光|波|长|的|四|次|方|成|反|比|。|这意味着|波|长|较|短|的|紫色|和|蓝色|光线|被|更多|地|散|射|到|各个|方向|。\n",
      "\n",
      "|4|.| **|人|眼|敏感|度|的影响|**|：\n",
      "|  | -| |人类|的眼睛|对|蓝|绿色|区域|的|光线|更为|敏感|，|这|使得|蓝色|在|散|射|后|成为|我们|看到|的主要|颜色|。\n",
      "\n",
      "|5|.| **|紫外线|的作用|**|：\n",
      "|  | -| 大|气|层|中的|臭|氧|层|吸收|了|大部分|的|紫外线|，|因此|紫色|和|蓝色|中|偏向|紫色|的部分|被|减少|，|剩下|更多的|蓝色|呈现|出来|。\n",
      "\n",
      "|6|.| **|视觉|感知|因素|**|：\n",
      "|  | -| 在|日|出|或|日|落|时|分|，|阳光|需要|穿越|更|厚|的大|气|层|，|导致|短|波|长|的|光|（|如|蓝|紫|）|被|进一步|散|射|，|剩下的|红色|和|橙|色|光线|主导|天空|的颜色|。|而在|白天|，|太阳|处于|高|空|时|，|短|波|长|的|蓝色|更容易|散|射|，|形成|我们|所|见|的|蓝天|。\n",
      "\n",
      "|综|上|所述|，|瑞|利|散|射|、|大气|成分|、|人|眼|敏感|度|及|紫外线|吸收|等|多重|因素|共同|作用|下|，|使得|天空|呈现|蓝色|。|这一|现象|不仅|涉及|物理学|中的|光|散|射|原理|，|也|与|生物学|中的|视觉|感知|有关|。||"
     ]
    }
   ],
   "source": [
    "from langchain_openai import ChatOpenAI\n",
    "\n",
    "model = ChatOpenAI(\n",
    "    model='deepseek-r1:14b',\n",
    "    base_url='http://192.168.1.188:11434/v1',\n",
    "    api_key='your_api_key'\n",
    ")\n",
    "\n",
    "chunks = []\n",
    "for chunk in model.stream('天空为什么是蓝色的'):\n",
    "    chunks.append(chunk)\n",
    "    print(chunk.content, end='|', flush=True)"
   ]
  },
  {
   "cell_type": "code",
   "execution_count": 5,
   "metadata": {},
   "outputs": [
    {
     "name": "stdout",
     "output_type": "stream",
     "text": [
      "<think>|\n",
      "|嗯|，|用户|问|的是|“|海水|是什么|颜色|？”|这个问题|看起来|挺|简单的|，|但|我觉得|可能|需要|更|深入|地|思考|一下|。|毕竟|，|我知道|海水|的颜色|不是|单一|的|，|可能|跟|很多|因素|有关|。\n",
      "\n",
      "|首先|，|我|想到|蓝色|是|大家|最|常|提到|的|海水|颜色|。|比如|在|旅游|照片|里|，|海水|常常|呈现出|深|浅|不|一|的|蓝色|调|，|从|浅|蓝|到|深|蓝|不|等|。|这|让我|猜测|，|海水|之所以|呈现|蓝色|，|可能|与|光线|的|折射|和|散|射|有关|。|记得|以前|学|过|光|的|散|射|，|大气|中的|分子|会|将|阳光|分散|成|各种|颜色|，|而|海洋|作为|水|体|，|可能|也有|类似的|效应|。\n",
      "\n",
      "|然后|，|我想|到了|其他|可能|的颜色|。|有时候|在|旅游|照片|中|看到|海水|呈现出|绿色|或|黄色|，|特别是在|浅|海|区域|。|这|可能|与|海底|的|植被|有关|，|比如|海|藻|或者其他|水中|植物|，|它们|可能会|改变|海水|的颜色|。|我还|听说过|红|潮|现象|，|那|通常是|由于|某些|藻|类|大量|繁殖|导致|的|红色|海水|。\n",
      "\n",
      "|再|深入|一点|，|水|深|也可能|影响|海水|的颜色|。|越|深|的|水|体|，|光线|穿透|的距离|就越|长|，|而|不同|波|长|的|光|在|水|中的|衰|减|速度|不同|（|通常|紫色|和|蓝色|的|光|波|较长|），|所以|较|深|的|海|水分|可能|显得|更深|色|，|甚至|接近|黑色|，|尤其是在|没有|阳光|直|射|的情况下|。\n",
      "\n",
      "|此外|，|杂质|、|浮|游|生物|和其他|海洋|生物|也可能|影响|海水|的颜色|。|例如|，|当|有很多|浮|游|植物|（|如|浮|游|藻|类|）|时|，|水|体|可能会|变得更|绿|或|更|红|，|反之|则|可能|较|清澈|呈现|蓝色|。\n",
      "\n",
      "|还有|天气|因素|，|比如|晴|天|和|多|云|的|天气|，|阳光|强度|不同|，|散|射|的情况|也|不同|，|这|会影响|海|面|的颜色|显现|效果|。|有时候|在|早晨|或|傍晚|，|光线|角度|变化|，|海水|看起来|也可能|有不同的|颜色|层次|。\n",
      "\n",
      "|总结|一下|，|海水|颜色|主要|由|以下几个|因素|决定|：|光|的|散|射|与|折射|、|水|深|、|海洋|生物|（|如|藻|类|）|的存在|、|海底|地形|以及|环境|中的|悬浮|颗粒|等|。|这些|因素|都|可能导致|海水|呈现出|不同|色调|的颜色|。|因此|，|回答|用户|的问题|时|，|不能|简单|地说|“|蓝色|”|而|应该|综合|考虑|各种|可能性|，|给出|更|全面|的回答|。\n",
      "|</think>|\n",
      "\n",
      "|海水|的颜色|可以从|多种|角度|进行|分析|和|理解|：\n",
      "\n",
      "|1|.| **|光|的|散|射|与|折射|**|：| \n",
      "|  | -| 海|水|呈现|蓝色|主要是|因为|光线|在|水|中的|散|射|和|折射|作用|。|当|阳光|进入|海|水中|时|，|不同|波|长|的|光|被|水分|层|散|射|掉|，|红色|、|橙|色|和|黄色|的|光|波|更容易|被|吸收|，|而|蓝色|和|紫色|的|光|则|更|易|散|射|，|因此|我们|看到|海水|多|为|蓝色|。\n",
      "|   \n",
      "|2|.| **|水|深|的影响|**|：\n",
      "|  | -| 浅|海水|域|通常|呈现|较|浅|的|蓝色|或|绿色|，|因为|阳光|能够|穿透|并|反射|出|这些|颜色|；|而在|深|海|区域|，|由于|光线|无法|深入|到达|底部|，|海水|可能|显得|更深|、|接近|黑色|。\n",
      "\n",
      "|3|.| **|海洋|生物|的作用|**|：\n",
      "|  | -| 海|藻|和其他|水中|植物|可以|改变|海水|的颜色|。|例如|，|绿|藻|丰富的|海域|使|海水|呈现|绿色|，|而|某些|红色|藻|类|可能导致|“|红|潮|”|现象|。\n",
      "|   \n",
      "|4|.| **|环境|因素|和|天气|条件|**|：\n",
      "|  | -| 天|气|状况|影响|阳光|的|传播|和|散|射|，|晴|天|时|蓝色|更|明显|，|阴|天|则|可能|显得|灰|暗|。|此外|，|海|浪|、|潮|汐|和|风暴|等|自然|现象|也可以|改变|水|体|的颜色|表现|。\n",
      "\n",
      "|5|.| **|悬浮|物质|的影响|**|：\n",
      "|  | -| 海|水|中的|浮|游|生物|、|泥|沙|和其他|悬浮|颗粒|物|会|吸收|或|反射|更多|光线|，|从而|影响|整体|颜色|。|例如|，|当|河流|携带|大量|泥|沙|入|海口|时|，|海水|可能会|变得|浑|浊|并|呈现|黄色|或|棕色|。\n",
      "\n",
      "|综|上|所述|，|海水|的颜色|是一个|复杂|的现象|，|由|多个|物理|和|生物学|因素|相互|作用|决定|。|因此|，|海水|不仅|有|蓝色|，|还|可能|呈现出|绿色|、|红色|、|黄色|或|黑色|等多种|色调|，|具体|取决于|上述|各种|因素|的|综|合作|用|。||"
     ]
    }
   ],
   "source": [
    "from langchain_openai import ChatOpenAI\n",
    "\n",
    "model = ChatOpenAI(\n",
    "    model='deepseek-r1:14b',\n",
    "    base_url='http://192.168.1.188:11434/v1',\n",
    "    api_key='your_api_key'\n",
    ")\n",
    "\n",
    "async def async_stream(question: str):\n",
    "    chunks = []\n",
    "    # chunk类型为AIMessageChunk\n",
    "    async for chunk in model.astream(question):\n",
    "        chunks.append(chunk)\n",
    "        print(chunk.content, end='|', flush=True)\n",
    "\n",
    "await async_stream('海水是什么颜色？')"
   ]
  },
  {
   "cell_type": "markdown",
   "metadata": {},
   "source": [
    "模型的输出和`stream`是可以匹配的。如下例所示，其返回的数据每一步都转换为`JSON`格式。"
   ]
  },
  {
   "cell_type": "code",
   "execution_count": 8,
   "metadata": {},
   "outputs": [
    {
     "name": "stdout",
     "output_type": "stream",
     "text": [
      "{}\n",
      "{'countries': []}\n",
      "{'countries': [{}]}\n",
      "{'countries': [{'name': ''}]}\n",
      "{'countries': [{'name': 'Germany'}]}\n",
      "{'countries': [{'name': 'Germany', 'population': 8}]}\n",
      "{'countries': [{'name': 'Germany', 'population': 83}]}\n",
      "{'countries': [{'name': 'Germany', 'population': 830}]}\n",
      "{'countries': [{'name': 'Germany', 'population': 8307}]}\n",
      "{'countries': [{'name': 'Germany', 'population': 83074}]}\n",
      "{'countries': [{'name': 'Germany', 'population': 830745}]}\n",
      "{'countries': [{'name': 'Germany', 'population': 8307459}]}\n",
      "{'countries': [{'name': 'Germany', 'population': 83074598}]}\n",
      "{'countries': [{'name': 'Germany', 'population': 83074598}, {}]}\n",
      "{'countries': [{'name': 'Germany', 'population': 83074598}, {'name': ''}]}\n",
      "{'countries': [{'name': 'Germany', 'population': 83074598}, {'name': 'France'}]}\n",
      "{'countries': [{'name': 'Germany', 'population': 83074598}, {'name': 'France', 'population': 6}]}\n",
      "{'countries': [{'name': 'Germany', 'population': 83074598}, {'name': 'France', 'population': 66}]}\n",
      "{'countries': [{'name': 'Germany', 'population': 83074598}, {'name': 'France', 'population': 669}]}\n",
      "{'countries': [{'name': 'Germany', 'population': 83074598}, {'name': 'France', 'population': 6698}]}\n",
      "{'countries': [{'name': 'Germany', 'population': 83074598}, {'name': 'France', 'population': 66985}]}\n",
      "{'countries': [{'name': 'Germany', 'population': 83074598}, {'name': 'France', 'population': 669854}]}\n",
      "{'countries': [{'name': 'Germany', 'population': 83074598}, {'name': 'France', 'population': 6698541}]}\n",
      "{'countries': [{'name': 'Germany', 'population': 83074598}, {'name': 'France', 'population': 66985414}]}\n",
      "{'countries': [{'name': 'Germany', 'population': 83074598}, {'name': 'France', 'population': 66985414}, {}]}\n",
      "{'countries': [{'name': 'Germany', 'population': 83074598}, {'name': 'France', 'population': 66985414}, {'name': ''}]}\n",
      "{'countries': [{'name': 'Germany', 'population': 83074598}, {'name': 'France', 'population': 66985414}, {'name': 'Japan'}]}\n",
      "{'countries': [{'name': 'Germany', 'population': 83074598}, {'name': 'France', 'population': 66985414}, {'name': 'Japan', 'population': 1}]}\n",
      "{'countries': [{'name': 'Germany', 'population': 83074598}, {'name': 'France', 'population': 66985414}, {'name': 'Japan', 'population': 12}]}\n",
      "{'countries': [{'name': 'Germany', 'population': 83074598}, {'name': 'France', 'population': 66985414}, {'name': 'Japan', 'population': 125}]}\n",
      "{'countries': [{'name': 'Germany', 'population': 83074598}, {'name': 'France', 'population': 66985414}, {'name': 'Japan', 'population': 1254}]}\n",
      "{'countries': [{'name': 'Germany', 'population': 83074598}, {'name': 'France', 'population': 66985414}, {'name': 'Japan', 'population': 12547}]}\n",
      "{'countries': [{'name': 'Germany', 'population': 83074598}, {'name': 'France', 'population': 66985414}, {'name': 'Japan', 'population': 125473}]}\n",
      "{'countries': [{'name': 'Germany', 'population': 83074598}, {'name': 'France', 'population': 66985414}, {'name': 'Japan', 'population': 1254730}]}\n",
      "{'countries': [{'name': 'Germany', 'population': 83074598}, {'name': 'France', 'population': 66985414}, {'name': 'Japan', 'population': 12547300}]}\n",
      "{'countries': [{'name': 'Germany', 'population': 83074598}, {'name': 'France', 'population': 66985414}, {'name': 'Japan', 'population': 125473000}]}\n",
      "{'countries': [{'name': 'Germany', 'population': 83074598}, {'name': 'France', 'population': 66985414}, {'name': 'Japan', 'population': 125473000}, {}]}\n",
      "{'countries': [{'name': 'Germany', 'population': 83074598}, {'name': 'France', 'population': 66985414}, {'name': 'Japan', 'population': 125473000}, {'name': ''}]}\n",
      "{'countries': [{'name': 'Germany', 'population': 83074598}, {'name': 'France', 'population': 66985414}, {'name': 'Japan', 'population': 125473000}, {'name': 'Spain'}]}\n",
      "{'countries': [{'name': 'Germany', 'population': 83074598}, {'name': 'France', 'population': 66985414}, {'name': 'Japan', 'population': 125473000}, {'name': 'Spain', 'population': 4}]}\n",
      "{'countries': [{'name': 'Germany', 'population': 83074598}, {'name': 'France', 'population': 66985414}, {'name': 'Japan', 'population': 125473000}, {'name': 'Spain', 'population': 47}]}\n",
      "{'countries': [{'name': 'Germany', 'population': 83074598}, {'name': 'France', 'population': 66985414}, {'name': 'Japan', 'population': 125473000}, {'name': 'Spain', 'population': 473}]}\n",
      "{'countries': [{'name': 'Germany', 'population': 83074598}, {'name': 'France', 'population': 66985414}, {'name': 'Japan', 'population': 125473000}, {'name': 'Spain', 'population': 4735}]}\n",
      "{'countries': [{'name': 'Germany', 'population': 83074598}, {'name': 'France', 'population': 66985414}, {'name': 'Japan', 'population': 125473000}, {'name': 'Spain', 'population': 47351}]}\n",
      "{'countries': [{'name': 'Germany', 'population': 83074598}, {'name': 'France', 'population': 66985414}, {'name': 'Japan', 'population': 125473000}, {'name': 'Spain', 'population': 473510}]}\n",
      "{'countries': [{'name': 'Germany', 'population': 83074598}, {'name': 'France', 'population': 66985414}, {'name': 'Japan', 'population': 125473000}, {'name': 'Spain', 'population': 4735102}]}\n",
      "{'countries': [{'name': 'Germany', 'population': 83074598}, {'name': 'France', 'population': 66985414}, {'name': 'Japan', 'population': 125473000}, {'name': 'Spain', 'population': 47351023}]}\n",
      "names: None\n"
     ]
    }
   ],
   "source": [
    "from langchain_openai import ChatOpenAI\n",
    "from langchain_core.output_parsers import JsonOutputParser\n",
    "\n",
    "model = ChatOpenAI(\n",
    "    model='deepseek-r1:14b',\n",
    "    base_url='http://192.168.1.188:11434/v1',\n",
    "    api_key='your_api_key'\n",
    ")\n",
    "\n",
    "chain = model | JsonOutputParser()\n",
    "\n",
    "async def async_chat():\n",
    "    async for text in chain.astream(\n",
    "        \"以JSON格式输出德国、法国、日本和西班牙的人口列表\"\n",
    "        '使用一个\"countries\"外部键的字典，其中包括国家列表。'\n",
    "        \"每个国家都应该包含键`name`和`population`\"\n",
    "    ):\n",
    "        print(text, flush=True)\n",
    "\n",
    "names = await async_chat()\n",
    "print(f'names: {names}')"
   ]
  },
  {
   "cell_type": "markdown",
   "metadata": {},
   "source": [
    "结果返回`JSON`格式后，如果要对`JSON`对应的字段进行提取，如提取`name`字段，返回国家列表，可以进行如下操作。"
   ]
  },
  {
   "cell_type": "code",
   "execution_count": 17,
   "metadata": {},
   "outputs": [
    {
     "name": "stdout",
     "output_type": "stream",
     "text": [
      "names: ['Germany', 'France', 'Japan', 'Spain']\n"
     ]
    }
   ],
   "source": [
    "from langchain_openai import ChatOpenAI\n",
    "from langchain_core.output_parsers import JsonOutputParser\n",
    "\n",
    "model = ChatOpenAI(\n",
    "    model='deepseek-r1:14b',\n",
    "    base_url='http://192.168.1.188:11434/v1',\n",
    "    api_key='your_api_key'\n",
    ")\n",
    "\n",
    "def extract_name(inputs):\n",
    "    if not isinstance(inputs, dict):\n",
    "        return \"\"\n",
    "    if \"countries\" not in inputs:\n",
    "        return \"\"\n",
    "    countries = inputs['countries']\n",
    "    if not isinstance(countries, list):\n",
    "        return \"\"\n",
    "    names = [country.get('name') for country in countries if isinstance(country, dict)]\n",
    "    return names\n",
    "\n",
    "chain = model | JsonOutputParser() | extract_name\n",
    "\n",
    "async def async_chat():\n",
    "    async for text in chain.astream(\n",
    "        \"以JSON格式输出德国、法国、日本和西班牙的人口列表\"\n",
    "        '使用一个\"countries\"外部键的字典，其中包括国家列表。'\n",
    "        \"每个国家都应该包含键`name`和`population`\"\n",
    "    ):\n",
    "        # print(text, end='|',flush=True)\n",
    "        return text\n",
    "\n",
    "names = await async_chat()\n",
    "print(f'names: {names}')"
   ]
  },
  {
   "cell_type": "markdown",
   "metadata": {},
   "source": [
    "## 事件流\n",
    "\n",
    "一般用于`debug`程序或者定位调用链时使用。常见的`chat`的`event`包括：\n",
    "\n",
    "- on_chat_model_start\n",
    "- on_chat_model_stream\n",
    "- on_chat_model_end"
   ]
  },
  {
   "cell_type": "code",
   "execution_count": 23,
   "metadata": {},
   "outputs": [
    {
     "name": "stdout",
     "output_type": "stream",
     "text": [
      "{'event': 'on_chat_model_start', 'data': {'input': '你是谁？'}, 'name': 'ChatOpenAI', 'tags': [], 'run_id': 'cc0efbc8-ed77-4866-8b51-f8bafea0cb70', 'metadata': {'ls_provider': 'openai', 'ls_model_name': 'deepseek-r1:14b', 'ls_model_type': 'chat', 'ls_temperature': None}, 'parent_ids': []}\n",
      "{'event': 'on_chat_model_stream', 'run_id': 'cc0efbc8-ed77-4866-8b51-f8bafea0cb70', 'name': 'ChatOpenAI', 'tags': [], 'metadata': {'ls_provider': 'openai', 'ls_model_name': 'deepseek-r1:14b', 'ls_model_type': 'chat', 'ls_temperature': None}, 'data': {'chunk': AIMessageChunk(content='<think>', additional_kwargs={}, response_metadata={}, id='run-cc0efbc8-ed77-4866-8b51-f8bafea0cb70')}, 'parent_ids': []}\n",
      "{'event': 'on_chat_model_stream', 'run_id': 'cc0efbc8-ed77-4866-8b51-f8bafea0cb70', 'name': 'ChatOpenAI', 'tags': [], 'metadata': {'ls_provider': 'openai', 'ls_model_name': 'deepseek-r1:14b', 'ls_model_type': 'chat', 'ls_temperature': None}, 'data': {'chunk': AIMessageChunk(content='\\n\\n', additional_kwargs={}, response_metadata={}, id='run-cc0efbc8-ed77-4866-8b51-f8bafea0cb70')}, 'parent_ids': []}\n",
      "{'event': 'on_chat_model_stream', 'run_id': 'cc0efbc8-ed77-4866-8b51-f8bafea0cb70', 'name': 'ChatOpenAI', 'tags': [], 'metadata': {'ls_provider': 'openai', 'ls_model_name': 'deepseek-r1:14b', 'ls_model_type': 'chat', 'ls_temperature': None}, 'data': {'chunk': AIMessageChunk(content='</think>', additional_kwargs={}, response_metadata={}, id='run-cc0efbc8-ed77-4866-8b51-f8bafea0cb70')}, 'parent_ids': []}\n",
      "{'event': 'on_chat_model_stream', 'run_id': 'cc0efbc8-ed77-4866-8b51-f8bafea0cb70', 'name': 'ChatOpenAI', 'tags': [], 'metadata': {'ls_provider': 'openai', 'ls_model_name': 'deepseek-r1:14b', 'ls_model_type': 'chat', 'ls_temperature': None}, 'data': {'chunk': AIMessageChunk(content='\\n\\n', additional_kwargs={}, response_metadata={}, id='run-cc0efbc8-ed77-4866-8b51-f8bafea0cb70')}, 'parent_ids': []}\n",
      "{'event': 'on_chat_model_stream', 'run_id': 'cc0efbc8-ed77-4866-8b51-f8bafea0cb70', 'name': 'ChatOpenAI', 'tags': [], 'metadata': {'ls_provider': 'openai', 'ls_model_name': 'deepseek-r1:14b', 'ls_model_type': 'chat', 'ls_temperature': None}, 'data': {'chunk': AIMessageChunk(content='您好', additional_kwargs={}, response_metadata={}, id='run-cc0efbc8-ed77-4866-8b51-f8bafea0cb70')}, 'parent_ids': []}\n",
      "{'event': 'on_chat_model_stream', 'run_id': 'cc0efbc8-ed77-4866-8b51-f8bafea0cb70', 'name': 'ChatOpenAI', 'tags': [], 'metadata': {'ls_provider': 'openai', 'ls_model_name': 'deepseek-r1:14b', 'ls_model_type': 'chat', 'ls_temperature': None}, 'data': {'chunk': AIMessageChunk(content='！', additional_kwargs={}, response_metadata={}, id='run-cc0efbc8-ed77-4866-8b51-f8bafea0cb70')}, 'parent_ids': []}\n",
      "{'event': 'on_chat_model_stream', 'run_id': 'cc0efbc8-ed77-4866-8b51-f8bafea0cb70', 'name': 'ChatOpenAI', 'tags': [], 'metadata': {'ls_provider': 'openai', 'ls_model_name': 'deepseek-r1:14b', 'ls_model_type': 'chat', 'ls_temperature': None}, 'data': {'chunk': AIMessageChunk(content='我是', additional_kwargs={}, response_metadata={}, id='run-cc0efbc8-ed77-4866-8b51-f8bafea0cb70')}, 'parent_ids': []}\n",
      "{'event': 'on_chat_model_stream', 'run_id': 'cc0efbc8-ed77-4866-8b51-f8bafea0cb70', 'name': 'ChatOpenAI', 'tags': [], 'metadata': {'ls_provider': 'openai', 'ls_model_name': 'deepseek-r1:14b', 'ls_model_type': 'chat', 'ls_temperature': None}, 'data': {'chunk': AIMessageChunk(content='由', additional_kwargs={}, response_metadata={}, id='run-cc0efbc8-ed77-4866-8b51-f8bafea0cb70')}, 'parent_ids': []}\n",
      "{'event': 'on_chat_model_stream', 'run_id': 'cc0efbc8-ed77-4866-8b51-f8bafea0cb70', 'name': 'ChatOpenAI', 'tags': [], 'metadata': {'ls_provider': 'openai', 'ls_model_name': 'deepseek-r1:14b', 'ls_model_type': 'chat', 'ls_temperature': None}, 'data': {'chunk': AIMessageChunk(content='中国的', additional_kwargs={}, response_metadata={}, id='run-cc0efbc8-ed77-4866-8b51-f8bafea0cb70')}, 'parent_ids': []}\n",
      "{'event': 'on_chat_model_stream', 'run_id': 'cc0efbc8-ed77-4866-8b51-f8bafea0cb70', 'name': 'ChatOpenAI', 'tags': [], 'metadata': {'ls_provider': 'openai', 'ls_model_name': 'deepseek-r1:14b', 'ls_model_type': 'chat', 'ls_temperature': None}, 'data': {'chunk': AIMessageChunk(content='深度', additional_kwargs={}, response_metadata={}, id='run-cc0efbc8-ed77-4866-8b51-f8bafea0cb70')}, 'parent_ids': []}\n",
      "{'event': 'on_chat_model_stream', 'run_id': 'cc0efbc8-ed77-4866-8b51-f8bafea0cb70', 'name': 'ChatOpenAI', 'tags': [], 'metadata': {'ls_provider': 'openai', 'ls_model_name': 'deepseek-r1:14b', 'ls_model_type': 'chat', 'ls_temperature': None}, 'data': {'chunk': AIMessageChunk(content='求', additional_kwargs={}, response_metadata={}, id='run-cc0efbc8-ed77-4866-8b51-f8bafea0cb70')}, 'parent_ids': []}\n",
      "{'event': 'on_chat_model_stream', 'run_id': 'cc0efbc8-ed77-4866-8b51-f8bafea0cb70', 'name': 'ChatOpenAI', 'tags': [], 'metadata': {'ls_provider': 'openai', 'ls_model_name': 'deepseek-r1:14b', 'ls_model_type': 'chat', 'ls_temperature': None}, 'data': {'chunk': AIMessageChunk(content='索', additional_kwargs={}, response_metadata={}, id='run-cc0efbc8-ed77-4866-8b51-f8bafea0cb70')}, 'parent_ids': []}\n",
      "{'event': 'on_chat_model_stream', 'run_id': 'cc0efbc8-ed77-4866-8b51-f8bafea0cb70', 'name': 'ChatOpenAI', 'tags': [], 'metadata': {'ls_provider': 'openai', 'ls_model_name': 'deepseek-r1:14b', 'ls_model_type': 'chat', 'ls_temperature': None}, 'data': {'chunk': AIMessageChunk(content='（', additional_kwargs={}, response_metadata={}, id='run-cc0efbc8-ed77-4866-8b51-f8bafea0cb70')}, 'parent_ids': []}\n",
      "{'event': 'on_chat_model_stream', 'run_id': 'cc0efbc8-ed77-4866-8b51-f8bafea0cb70', 'name': 'ChatOpenAI', 'tags': [], 'metadata': {'ls_provider': 'openai', 'ls_model_name': 'deepseek-r1:14b', 'ls_model_type': 'chat', 'ls_temperature': None}, 'data': {'chunk': AIMessageChunk(content='Deep', additional_kwargs={}, response_metadata={}, id='run-cc0efbc8-ed77-4866-8b51-f8bafea0cb70')}, 'parent_ids': []}\n",
      "{'event': 'on_chat_model_stream', 'run_id': 'cc0efbc8-ed77-4866-8b51-f8bafea0cb70', 'name': 'ChatOpenAI', 'tags': [], 'metadata': {'ls_provider': 'openai', 'ls_model_name': 'deepseek-r1:14b', 'ls_model_type': 'chat', 'ls_temperature': None}, 'data': {'chunk': AIMessageChunk(content='Seek', additional_kwargs={}, response_metadata={}, id='run-cc0efbc8-ed77-4866-8b51-f8bafea0cb70')}, 'parent_ids': []}\n",
      "{'event': 'on_chat_model_stream', 'run_id': 'cc0efbc8-ed77-4866-8b51-f8bafea0cb70', 'name': 'ChatOpenAI', 'tags': [], 'metadata': {'ls_provider': 'openai', 'ls_model_name': 'deepseek-r1:14b', 'ls_model_type': 'chat', 'ls_temperature': None}, 'data': {'chunk': AIMessageChunk(content='）', additional_kwargs={}, response_metadata={}, id='run-cc0efbc8-ed77-4866-8b51-f8bafea0cb70')}, 'parent_ids': []}\n",
      "{'event': 'on_chat_model_stream', 'run_id': 'cc0efbc8-ed77-4866-8b51-f8bafea0cb70', 'name': 'ChatOpenAI', 'tags': [], 'metadata': {'ls_provider': 'openai', 'ls_model_name': 'deepseek-r1:14b', 'ls_model_type': 'chat', 'ls_temperature': None}, 'data': {'chunk': AIMessageChunk(content='公司', additional_kwargs={}, response_metadata={}, id='run-cc0efbc8-ed77-4866-8b51-f8bafea0cb70')}, 'parent_ids': []}\n",
      "{'event': 'on_chat_model_stream', 'run_id': 'cc0efbc8-ed77-4866-8b51-f8bafea0cb70', 'name': 'ChatOpenAI', 'tags': [], 'metadata': {'ls_provider': 'openai', 'ls_model_name': 'deepseek-r1:14b', 'ls_model_type': 'chat', 'ls_temperature': None}, 'data': {'chunk': AIMessageChunk(content='开发', additional_kwargs={}, response_metadata={}, id='run-cc0efbc8-ed77-4866-8b51-f8bafea0cb70')}, 'parent_ids': []}\n",
      "{'event': 'on_chat_model_stream', 'run_id': 'cc0efbc8-ed77-4866-8b51-f8bafea0cb70', 'name': 'ChatOpenAI', 'tags': [], 'metadata': {'ls_provider': 'openai', 'ls_model_name': 'deepseek-r1:14b', 'ls_model_type': 'chat', 'ls_temperature': None}, 'data': {'chunk': AIMessageChunk(content='的', additional_kwargs={}, response_metadata={}, id='run-cc0efbc8-ed77-4866-8b51-f8bafea0cb70')}, 'parent_ids': []}\n",
      "{'event': 'on_chat_model_stream', 'run_id': 'cc0efbc8-ed77-4866-8b51-f8bafea0cb70', 'name': 'ChatOpenAI', 'tags': [], 'metadata': {'ls_provider': 'openai', 'ls_model_name': 'deepseek-r1:14b', 'ls_model_type': 'chat', 'ls_temperature': None}, 'data': {'chunk': AIMessageChunk(content='智能', additional_kwargs={}, response_metadata={}, id='run-cc0efbc8-ed77-4866-8b51-f8bafea0cb70')}, 'parent_ids': []}\n",
      "{'event': 'on_chat_model_stream', 'run_id': 'cc0efbc8-ed77-4866-8b51-f8bafea0cb70', 'name': 'ChatOpenAI', 'tags': [], 'metadata': {'ls_provider': 'openai', 'ls_model_name': 'deepseek-r1:14b', 'ls_model_type': 'chat', 'ls_temperature': None}, 'data': {'chunk': AIMessageChunk(content='助手', additional_kwargs={}, response_metadata={}, id='run-cc0efbc8-ed77-4866-8b51-f8bafea0cb70')}, 'parent_ids': []}\n",
      "{'event': 'on_chat_model_stream', 'run_id': 'cc0efbc8-ed77-4866-8b51-f8bafea0cb70', 'name': 'ChatOpenAI', 'tags': [], 'metadata': {'ls_provider': 'openai', 'ls_model_name': 'deepseek-r1:14b', 'ls_model_type': 'chat', 'ls_temperature': None}, 'data': {'chunk': AIMessageChunk(content='Deep', additional_kwargs={}, response_metadata={}, id='run-cc0efbc8-ed77-4866-8b51-f8bafea0cb70')}, 'parent_ids': []}\n",
      "{'event': 'on_chat_model_stream', 'run_id': 'cc0efbc8-ed77-4866-8b51-f8bafea0cb70', 'name': 'ChatOpenAI', 'tags': [], 'metadata': {'ls_provider': 'openai', 'ls_model_name': 'deepseek-r1:14b', 'ls_model_type': 'chat', 'ls_temperature': None}, 'data': {'chunk': AIMessageChunk(content='Seek', additional_kwargs={}, response_metadata={}, id='run-cc0efbc8-ed77-4866-8b51-f8bafea0cb70')}, 'parent_ids': []}\n",
      "{'event': 'on_chat_model_stream', 'run_id': 'cc0efbc8-ed77-4866-8b51-f8bafea0cb70', 'name': 'ChatOpenAI', 'tags': [], 'metadata': {'ls_provider': 'openai', 'ls_model_name': 'deepseek-r1:14b', 'ls_model_type': 'chat', 'ls_temperature': None}, 'data': {'chunk': AIMessageChunk(content='-R', additional_kwargs={}, response_metadata={}, id='run-cc0efbc8-ed77-4866-8b51-f8bafea0cb70')}, 'parent_ids': []}\n",
      "{'event': 'on_chat_model_stream', 'run_id': 'cc0efbc8-ed77-4866-8b51-f8bafea0cb70', 'name': 'ChatOpenAI', 'tags': [], 'metadata': {'ls_provider': 'openai', 'ls_model_name': 'deepseek-r1:14b', 'ls_model_type': 'chat', 'ls_temperature': None}, 'data': {'chunk': AIMessageChunk(content='1', additional_kwargs={}, response_metadata={}, id='run-cc0efbc8-ed77-4866-8b51-f8bafea0cb70')}, 'parent_ids': []}\n",
      "{'event': 'on_chat_model_stream', 'run_id': 'cc0efbc8-ed77-4866-8b51-f8bafea0cb70', 'name': 'ChatOpenAI', 'tags': [], 'metadata': {'ls_provider': 'openai', 'ls_model_name': 'deepseek-r1:14b', 'ls_model_type': 'chat', 'ls_temperature': None}, 'data': {'chunk': AIMessageChunk(content='。', additional_kwargs={}, response_metadata={}, id='run-cc0efbc8-ed77-4866-8b51-f8bafea0cb70')}, 'parent_ids': []}\n",
      "{'event': 'on_chat_model_stream', 'run_id': 'cc0efbc8-ed77-4866-8b51-f8bafea0cb70', 'name': 'ChatOpenAI', 'tags': [], 'metadata': {'ls_provider': 'openai', 'ls_model_name': 'deepseek-r1:14b', 'ls_model_type': 'chat', 'ls_temperature': None}, 'data': {'chunk': AIMessageChunk(content='如', additional_kwargs={}, response_metadata={}, id='run-cc0efbc8-ed77-4866-8b51-f8bafea0cb70')}, 'parent_ids': []}\n",
      "{'event': 'on_chat_model_stream', 'run_id': 'cc0efbc8-ed77-4866-8b51-f8bafea0cb70', 'name': 'ChatOpenAI', 'tags': [], 'metadata': {'ls_provider': 'openai', 'ls_model_name': 'deepseek-r1:14b', 'ls_model_type': 'chat', 'ls_temperature': None}, 'data': {'chunk': AIMessageChunk(content='您', additional_kwargs={}, response_metadata={}, id='run-cc0efbc8-ed77-4866-8b51-f8bafea0cb70')}, 'parent_ids': []}\n",
      "{'event': 'on_chat_model_stream', 'run_id': 'cc0efbc8-ed77-4866-8b51-f8bafea0cb70', 'name': 'ChatOpenAI', 'tags': [], 'metadata': {'ls_provider': 'openai', 'ls_model_name': 'deepseek-r1:14b', 'ls_model_type': 'chat', 'ls_temperature': None}, 'data': {'chunk': AIMessageChunk(content='有任何', additional_kwargs={}, response_metadata={}, id='run-cc0efbc8-ed77-4866-8b51-f8bafea0cb70')}, 'parent_ids': []}\n",
      "{'event': 'on_chat_model_stream', 'run_id': 'cc0efbc8-ed77-4866-8b51-f8bafea0cb70', 'name': 'ChatOpenAI', 'tags': [], 'metadata': {'ls_provider': 'openai', 'ls_model_name': 'deepseek-r1:14b', 'ls_model_type': 'chat', 'ls_temperature': None}, 'data': {'chunk': AIMessageChunk(content='任何', additional_kwargs={}, response_metadata={}, id='run-cc0efbc8-ed77-4866-8b51-f8bafea0cb70')}, 'parent_ids': []}\n",
      "{'event': 'on_chat_model_stream', 'run_id': 'cc0efbc8-ed77-4866-8b51-f8bafea0cb70', 'name': 'ChatOpenAI', 'tags': [], 'metadata': {'ls_provider': 'openai', 'ls_model_name': 'deepseek-r1:14b', 'ls_model_type': 'chat', 'ls_temperature': None}, 'data': {'chunk': AIMessageChunk(content='问题', additional_kwargs={}, response_metadata={}, id='run-cc0efbc8-ed77-4866-8b51-f8bafea0cb70')}, 'parent_ids': []}\n",
      "{'event': 'on_chat_model_stream', 'run_id': 'cc0efbc8-ed77-4866-8b51-f8bafea0cb70', 'name': 'ChatOpenAI', 'tags': [], 'metadata': {'ls_provider': 'openai', 'ls_model_name': 'deepseek-r1:14b', 'ls_model_type': 'chat', 'ls_temperature': None}, 'data': {'chunk': AIMessageChunk(content='，', additional_kwargs={}, response_metadata={}, id='run-cc0efbc8-ed77-4866-8b51-f8bafea0cb70')}, 'parent_ids': []}\n",
      "{'event': 'on_chat_model_stream', 'run_id': 'cc0efbc8-ed77-4866-8b51-f8bafea0cb70', 'name': 'ChatOpenAI', 'tags': [], 'metadata': {'ls_provider': 'openai', 'ls_model_name': 'deepseek-r1:14b', 'ls_model_type': 'chat', 'ls_temperature': None}, 'data': {'chunk': AIMessageChunk(content='我会', additional_kwargs={}, response_metadata={}, id='run-cc0efbc8-ed77-4866-8b51-f8bafea0cb70')}, 'parent_ids': []}\n",
      "{'event': 'on_chat_model_stream', 'run_id': 'cc0efbc8-ed77-4866-8b51-f8bafea0cb70', 'name': 'ChatOpenAI', 'tags': [], 'metadata': {'ls_provider': 'openai', 'ls_model_name': 'deepseek-r1:14b', 'ls_model_type': 'chat', 'ls_temperature': None}, 'data': {'chunk': AIMessageChunk(content='尽', additional_kwargs={}, response_metadata={}, id='run-cc0efbc8-ed77-4866-8b51-f8bafea0cb70')}, 'parent_ids': []}\n",
      "{'event': 'on_chat_model_stream', 'run_id': 'cc0efbc8-ed77-4866-8b51-f8bafea0cb70', 'name': 'ChatOpenAI', 'tags': [], 'metadata': {'ls_provider': 'openai', 'ls_model_name': 'deepseek-r1:14b', 'ls_model_type': 'chat', 'ls_temperature': None}, 'data': {'chunk': AIMessageChunk(content='我', additional_kwargs={}, response_metadata={}, id='run-cc0efbc8-ed77-4866-8b51-f8bafea0cb70')}, 'parent_ids': []}\n",
      "{'event': 'on_chat_model_stream', 'run_id': 'cc0efbc8-ed77-4866-8b51-f8bafea0cb70', 'name': 'ChatOpenAI', 'tags': [], 'metadata': {'ls_provider': 'openai', 'ls_model_name': 'deepseek-r1:14b', 'ls_model_type': 'chat', 'ls_temperature': None}, 'data': {'chunk': AIMessageChunk(content='所能', additional_kwargs={}, response_metadata={}, id='run-cc0efbc8-ed77-4866-8b51-f8bafea0cb70')}, 'parent_ids': []}\n",
      "{'event': 'on_chat_model_stream', 'run_id': 'cc0efbc8-ed77-4866-8b51-f8bafea0cb70', 'name': 'ChatOpenAI', 'tags': [], 'metadata': {'ls_provider': 'openai', 'ls_model_name': 'deepseek-r1:14b', 'ls_model_type': 'chat', 'ls_temperature': None}, 'data': {'chunk': AIMessageChunk(content='为您提供', additional_kwargs={}, response_metadata={}, id='run-cc0efbc8-ed77-4866-8b51-f8bafea0cb70')}, 'parent_ids': []}\n",
      "{'event': 'on_chat_model_stream', 'run_id': 'cc0efbc8-ed77-4866-8b51-f8bafea0cb70', 'name': 'ChatOpenAI', 'tags': [], 'metadata': {'ls_provider': 'openai', 'ls_model_name': 'deepseek-r1:14b', 'ls_model_type': 'chat', 'ls_temperature': None}, 'data': {'chunk': AIMessageChunk(content='帮助', additional_kwargs={}, response_metadata={}, id='run-cc0efbc8-ed77-4866-8b51-f8bafea0cb70')}, 'parent_ids': []}\n",
      "{'event': 'on_chat_model_stream', 'run_id': 'cc0efbc8-ed77-4866-8b51-f8bafea0cb70', 'name': 'ChatOpenAI', 'tags': [], 'metadata': {'ls_provider': 'openai', 'ls_model_name': 'deepseek-r1:14b', 'ls_model_type': 'chat', 'ls_temperature': None}, 'data': {'chunk': AIMessageChunk(content='。', additional_kwargs={}, response_metadata={}, id='run-cc0efbc8-ed77-4866-8b51-f8bafea0cb70')}, 'parent_ids': []}\n",
      "{'event': 'on_chat_model_stream', 'run_id': 'cc0efbc8-ed77-4866-8b51-f8bafea0cb70', 'name': 'ChatOpenAI', 'tags': [], 'metadata': {'ls_provider': 'openai', 'ls_model_name': 'deepseek-r1:14b', 'ls_model_type': 'chat', 'ls_temperature': None}, 'data': {'chunk': AIMessageChunk(content='', additional_kwargs={}, response_metadata={'finish_reason': 'stop', 'model_name': 'deepseek-r1:14b', 'system_fingerprint': 'fp_ollama'}, id='run-cc0efbc8-ed77-4866-8b51-f8bafea0cb70')}, 'parent_ids': []}\n",
      "{'event': 'on_chat_model_end', 'data': {'output': AIMessageChunk(content='<think>\\n\\n</think>\\n\\n您好！我是由中国的深度求索（DeepSeek）公司开发的智能助手DeepSeek-R1。如您有任何任何问题，我会尽我所能为您提供帮助。', additional_kwargs={}, response_metadata={'finish_reason': 'stop', 'model_name': 'deepseek-r1:14b', 'system_fingerprint': 'fp_ollama'}, id='run-cc0efbc8-ed77-4866-8b51-f8bafea0cb70')}, 'run_id': 'cc0efbc8-ed77-4866-8b51-f8bafea0cb70', 'name': 'ChatOpenAI', 'tags': [], 'metadata': {'ls_provider': 'openai', 'ls_model_name': 'deepseek-r1:14b', 'ls_model_type': 'chat', 'ls_temperature': None}, 'parent_ids': []}\n"
     ]
    }
   ],
   "source": [
    "from langchain_openai import ChatOpenAI\n",
    "from langchain_core.output_parsers import JsonOutputParser\n",
    "\n",
    "model = ChatOpenAI(\n",
    "    model='deepseek-r1:14b',\n",
    "    base_url='http://192.168.1.188:11434/v1',\n",
    "    api_key='your_api_key'\n",
    ")\n",
    "\n",
    "async def get_events():\n",
    "    async for event in model.astream_events('你是谁？', version='v2'):\n",
    "        print(event, end='\\n', flush=True)\n",
    "\n",
    "await get_events()"
   ]
  },
  {
   "cell_type": "markdown",
   "metadata": {},
   "source": [
    "## 调试和跟踪\n",
    "\n",
    "在详情模式（verbose）中，上述重要信息将会打印出来。而调试模式（debug）所有日志都会打印。而`LangSmith`跟踪所有信息，但是不能本地执行，且是收费应用（目前有一定的免费额度）。\n",
    "\n",
    "`LangSmith`的设置(可配置在`.env`文件中)如下：\n",
    "\n",
    "```shell\n",
    "LANGSMITH_TRACING=true\n",
    "LANGSMITH_ENDPOINT=\"https://api.smith.langchain.com\"\n",
    "LANGSMITH_API_KEY=\"your_api_key\"\n",
    "LANGSMITH_PROJECT=\"your_project_name\"\n",
    "```\n"
   ]
  },
  {
   "cell_type": "code",
   "execution_count": null,
   "metadata": {},
   "outputs": [
    {
     "name": "stdout",
     "output_type": "stream",
     "text": [
      "\n",
      "\n",
      "\u001b[1m> Entering new AgentExecutor chain...\u001b[0m\n",
      "\u001b[32;1m\u001b[1;3m\n",
      "Invoking: `tavily_search_results_json` with `{'query': '热辣滚烫 导演'}`\n",
      "\n",
      "\n",
      "\u001b[0m\u001b[36;1m\u001b[1;3m[{'title': '热辣滚烫_百度百科', 'url': 'https://baike.baidu.com/item/%E7%83%AD%E8%BE%A3%E6%BB%9A%E7%83%AB/61943936', 'content': '《热辣滚烫》是由贾玲执导，孙集斌编剧，贾玲、雷佳音领衔主演，张小斐、赵海燕、张琪、许君聪、卜钰、朱天福、刘宏禄主演，杨紫、沙溢、魏翔、李雪琴、沈春阳、沈涛、马丽、乔', 'score': 0.8259413}]\u001b[0m\u001b[32;1m\u001b[1;3m\n",
      "Invoking: `tavily_search_results_json` with `{'query': '贾玲今年几岁了'}`\n",
      "\n",
      "\n",
      "\u001b[0m\u001b[36;1m\u001b[1;3m[{'title': '贾玲- 维基百科，自由的百科全书', 'url': 'https://zh.wikipedia.org/zh-hans/%E8%B4%BE%E7%8E%B2', 'content': '贾玲 编辑 ; 中华人民共和国 · 汉族 · (1982-04-29) 1982年4月29日（42岁）. 中华人民共和国湖北省襄阳地区宜城县.', 'score': 0.80698997}]\u001b[0m\u001b[32;1m\u001b[1;3m《热辣滚烫》的导演是贾玲，今年42岁。\u001b[0m\n",
      "\n",
      "\u001b[1m> Finished chain.\u001b[0m\n"
     ]
    },
    {
     "data": {
      "text/plain": [
       "{'input': '《热辣滚烫》的导演是谁，今年几岁了？', 'output': '《热辣滚烫》的导演是贾玲，今年42岁。'}"
      ]
     },
     "execution_count": 3,
     "metadata": {},
     "output_type": "execute_result"
    }
   ],
   "source": [
    "from langchain_openai import ChatOpenAI\n",
    "from langchain.agents import AgentExecutor, create_tool_calling_agent\n",
    "from langchain_community.tools.tavily_search import TavilySearchResults\n",
    "from langchain_core.prompts import ChatPromptTemplate\n",
    "from langchain.globals import set_verbose\n",
    "from dotenv import load_dotenv\n",
    "\n",
    "\n",
    "load_dotenv()\n",
    "# 使用智谱开放平台免费 glm-4-flash 模型（https://open.bigmodel.cn）\n",
    "model = ChatOpenAI(model='glm-4-flash')\n",
    "# 搜索工具，需注册方可使用，也可以使用  \n",
    "tools = [TavilySearchResults(max_results=1)]\n",
    "prompt = ChatPromptTemplate.from_messages(\n",
    "    [\n",
    "        ('system', '你是一个小助手'),\n",
    "        ('placeholder', \"{chat_history}\"),\n",
    "        ('human', '{input}'),\n",
    "        ('placeholder', \"{agent_scratchpad}\")\n",
    "    ]\n",
    ")\n",
    "agent = create_tool_calling_agent(model, tools, prompt)\n",
    "# 设置打印详情，如果要打印debug信息，使用 set_debug(True)\n",
    "set_verbose(True)\n",
    "agent_executor = AgentExecutor(agent=agent, tools=tools)\n",
    "agent_executor.invoke({'input':'《热辣滚烫》的导演是谁，今年几岁了？'})"
   ]
  },
  {
   "cell_type": "markdown",
   "metadata": {},
   "source": [
    "从上面的输出可以看出：\n",
    "\n",
    "- 这个调用了两次搜索\n",
    "- 大模型在这里只是将返回的内容做了总结"
   ]
  },
  {
   "cell_type": "code",
   "execution_count": null,
   "metadata": {},
   "outputs": [],
   "source": []
  }
 ],
 "metadata": {
  "kernelspec": {
   "display_name": "langchain",
   "language": "python",
   "name": "python3"
  },
  "language_info": {
   "codemirror_mode": {
    "name": "ipython",
    "version": 3
   },
   "file_extension": ".py",
   "mimetype": "text/x-python",
   "name": "python",
   "nbconvert_exporter": "python",
   "pygments_lexer": "ipython3",
   "version": "3.10.16"
  }
 },
 "nbformat": 4,
 "nbformat_minor": 2
}
